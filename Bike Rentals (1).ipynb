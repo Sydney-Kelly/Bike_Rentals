{
 "cells": [
  {
   "cell_type": "code",
   "execution_count": null,
   "id": "030df42d",
   "metadata": {},
   "outputs": [],
   "source": [
    "#pip install --upgrade --force-reinstall numpy\n",
    "import numpy as np\n",
    "import pandas as pd\n",
    "import pickle\n",
    "\n",
    "import re\n",
    "from sklearn import linear_model\n",
    "\n",
    "\n",
    "import seaborn as sns\n",
    "import matplotlib.pyplot as plt\n",
    "%matplotlib inline\n",
    "\n",
    "from sklearn.ensemble import RandomForestRegressor\n",
    "from sklearn import linear_model\n",
    "from sklearn import ensemble \n",
    "from sklearn.metrics import mean_squared_error\n",
    "from sklearn.ensemble import BaggingRegressor\n",
    "\n",
    "\n",
    "from sklearn.ensemble import RandomForestRegressor\n",
    "from sklearn.model_selection import KFold\n",
    "import xgboost as xgb\n",
    "from sklearn.model_selection import train_test_split\n",
    "\n",
    "\n",
    "from sklearn.model_selection import GridSearchCV\n",
    "from sklearn.model_selection import cross_val_score, KFold\n",
    "\n",
    "from sklearn.linear_model import Lasso\n",
    "from sklearn.linear_model import Ridge\n",
    "from sklearn.kernel_ridge import KernelRidge\n",
    "\n",
    "from sklearn.ensemble import RandomForestRegressor\n",
    "from sklearn import preprocessing\n",
    "\n",
    "import os\n",
    "import warnings\n",
    "warnings.filterwarnings('ignore') \n",
    "from pandas_profiling import ProfileReport"
   ]
  },
  {
   "cell_type": "code",
   "execution_count": null,
   "id": "e1425393",
   "metadata": {},
   "outputs": [],
   "source": [
    "test_df = pd.read_csv(\"bikerenttest.csv\")\n",
    "train_df = pd.read_csv(\"bikerenttrain.csv\")"
   ]
  },
  {
   "cell_type": "code",
   "execution_count": null,
   "id": "bb19db72",
   "metadata": {},
   "outputs": [],
   "source": [
    "test_df"
   ]
  },
  {
   "cell_type": "code",
   "execution_count": null,
   "id": "d57a2f1e",
   "metadata": {},
   "outputs": [],
   "source": [
    "train_df"
   ]
  },
  {
   "cell_type": "code",
   "execution_count": null,
   "id": "48932391",
   "metadata": {},
   "outputs": [],
   "source": [
    "sns.factorplot(x=\"hr\",y=\"count\",data=train,kind='bar',size=5,aspect=1.5)\n"
   ]
  },
  {
   "cell_type": "code",
   "execution_count": null,
   "id": "db7f67c4",
   "metadata": {},
   "outputs": [],
   "source": [
    "sns.factorplot(x=\"month\",y=\"count\",data=train,kind='bar',size=5,aspect=1.5)"
   ]
  },
  {
   "cell_type": "code",
   "execution_count": null,
   "id": "2d5b950d",
   "metadata": {},
   "outputs": [],
   "source": [
    "new_df=train.copy()\n",
    "\n",
    "new_df['temp_bin']=np.floor(new_df['temp'])//3\n",
    "\n",
    "sns.factorplot(x=\"temp_bin\",y=\"count\",data=new_df,kind='bar')"
   ]
  },
  {
   "cell_type": "code",
   "execution_count": null,
   "id": "62b5b830",
   "metadata": {},
   "outputs": [],
   "source": [
    "weather_train = pd.get_dummies(train['weather'], prefix='wea', prefix_sep='_')\n",
    "weather_test = pd.get_dummies(test['weather'], prefix='wea', prefix_sep='_')\n",
    "\n",
    "season_train = pd.get_dummies(train['season'], prefix='sea', prefix_sep='_')\n",
    "season_test = pd.get_dummies(test['season'], prefix='sea', prefix_sep='_')\n",
    "\n",
    "year_train = pd.get_dummies(train['year'], prefix='year', prefix_sep='_')\n",
    "year_test = pd.get_dummies(test['year'], prefix='year', prefix_sep='_')\n",
    "\n",
    "wind_categori_train = pd.get_dummies(train['wind_categori'], prefix='wind_cate', prefix_sep='_')\n",
    "wind_categori_test = pd.get_dummies(test['wind_categori'], prefix='wind_cate', prefix_sep='_')\n",
    "\n",
    "humi_categori_train = pd.get_dummies(train['humi_categori'], prefix='humi_cate', prefix_sep='_')\n",
    "humi_categori_test = pd.get_dummies(test['humi_categori'], prefix='humi_cate', prefix_sep='_')\n",
    "\n",
    "hr_categori_train = pd.get_dummies(train['hr_categori'], prefix='hr_cate', prefix_sep='_')\n",
    "hr_categori_test = pd.get_dummies(test['hr_categori'], prefix='hr_cate', prefix_sep='_')"
   ]
  },
  {
   "cell_type": "code",
   "execution_count": null,
   "id": "c9de51a9",
   "metadata": {},
   "outputs": [],
   "source": [
    "Train_Master = pd.concat([train,\n",
    "                          weather_train,\n",
    "                          season_train,\n",
    "                          year_train,\n",
    "                          wind_categori_train,\n",
    "                          humi_categori_train,\n",
    "                          hr_categori_train\n",
    "                         ], axis=1)"
   ]
  },
  {
   "cell_type": "code",
   "execution_count": null,
   "id": "34028907",
   "metadata": {},
   "outputs": [],
   "source": [
    "Train_Master = Train_Master.drop(['weather','season','year','datetime','hr_categori','humi_categori','wind_categori'], axis = 1)\n",
    "Test_Master = Test_Master.drop(['weather','season','year','datetime','hr_categori','humi_categori','wind_categori'], axis = 1)\n",
    "\n",
    "Train, Test = train_test_split(Train_Master, test_size = 0.3)"
   ]
  },
  {
   "cell_type": "code",
   "execution_count": null,
   "id": "a178e660",
   "metadata": {},
   "outputs": [],
   "source": [
    "X_train = Train.drop(['count'], axis=1)\n",
    "Y_train = Train['count']\n",
    "Y_train_log = Train['count'].apply(lambda x:np.log1p(x))\n",
    "\n",
    "X_test = Test.drop(['count'], axis=1)\n",
    "Y_test = Test[\"count\"]\n",
    "Y_test_log = Test[\"count\"].apply(lambda x:np.log1p(x))\n",
    "\n",
    "Y_test = Y_test.reset_index().drop('index',axis = 1)\n",
    "Y_train = Y_train.reset_index().drop('index',axis = 1)"
   ]
  },
  {
   "cell_type": "code",
   "execution_count": null,
   "id": "8d9f0043",
   "metadata": {},
   "outputs": [],
   "source": [
    "print(Train_Master.columns, Train_Master.shape)\n",
    "print(Test_Master.columns, Test_Master.shape)\n",
    "print([i for i in Train_Master.columns if i not in Test_Master.columns]) "
   ]
  },
  {
   "cell_type": "code",
   "execution_count": null,
   "id": "497485de",
   "metadata": {},
   "outputs": [],
   "source": [
    "def random_forest_autotune(X,y):\n",
    "\n",
    "    param_test = {\n",
    "     'max_depth':[9,13,17],\n",
    "     'max_features':['auto','sqrt'],\n",
    "     'n_estimators': [500,1000,1500]\n",
    "    }\n",
    "\n",
    "    gsearch = GridSearchCV(RandomForestRegressor(),refit=True,\n",
    "                            param_grid = param_test, scoring='neg_mean_squared_error',iid=True, cv=5)\n",
    "    gsearch.fit(X,y)\n",
    "    print('____________________________________________')\n",
    "    print('tune random forest')\n",
    "    print('____________________________________________')\n",
    "    print(gsearch.cv_results_)\n",
    "    print(gsearch.best_params_)\n",
    "    print(gsearch.best_score_)\n",
    "    print(rmsle(gsearch.predict(X),y))\n",
    "\n",
    "    return gsearch.best_estimator_\n"
   ]
  },
  {
   "cell_type": "code",
   "execution_count": null,
   "id": "ce0b752f",
   "metadata": {},
   "outputs": [],
   "source": [
    "random_forest_param = random_forest_autotune(X_train,Y_train_log)"
   ]
  },
  {
   "cell_type": "code",
   "execution_count": null,
   "id": "c530cafc",
   "metadata": {},
   "outputs": [],
   "source": [
    "predict_met = pd.DataFrame(data={method: [np.nan] * X_train.shape[0] for method in [ 'random forest'\n",
    "                                                                                   ]})\n",
    "predict_met['random forest'] = random_forest_param.predict(X_train)\n",
    "\n",
    "predict_met.head()"
   ]
  },
  {
   "cell_type": "code",
   "execution_count": null,
   "id": "ed5c9a0c",
   "metadata": {},
   "outputs": [],
   "source": []
  }
 ],
 "metadata": {
  "kernelspec": {
   "display_name": "Python 3",
   "language": "python",
   "name": "python3"
  },
  "language_info": {
   "codemirror_mode": {
    "name": "ipython",
    "version": 3
   },
   "file_extension": ".py",
   "mimetype": "text/x-python",
   "name": "python",
   "nbconvert_exporter": "python",
   "pygments_lexer": "ipython3",
   "version": "3.10.0"
  }
 },
 "nbformat": 4,
 "nbformat_minor": 5
}
